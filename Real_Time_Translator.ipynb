{
 "cells": [
  {
   "cell_type": "code",
   "execution_count": 1,
   "metadata": {},
   "outputs": [],
   "source": [
    "import tensorflow as tf\n",
    "import pyttsx3\n",
    "import speech_recognition as sr\n",
    "from importnb import Notebook\n",
    "import pickle\n",
    "with Notebook():\n",
    "    from English_Spanish import NeuralMachineTranslation\n",
    "    from Spanish_English import NeuralMachineTranslation"
   ]
  },
  {
   "cell_type": "code",
   "execution_count": null,
   "metadata": {},
   "outputs": [],
   "source": [
    "en_sp_model = tf.keras.models.load_model('./en_sp_model.h5')\n",
    "sp_en_model = tf.keras.models.load_model('./sp_en_model.h5')\n",
    "\n",
    "# Load tokenizers\n",
    "with open(\"en_sp_input_tokenizer.pkl\", \"rb\") as f:\n",
    "    en_sp_input_tokenizer = pickle.load(f)\n",
    "\n",
    "with open(\"en_sp_output_tokenizer.pkl\", \"rb\") as f:\n",
    "    en_sp_output_tokenizer = pickle.load(f)\n",
    "\n",
    "with open(\"sp_en_input_tokenizer.pkl\", \"rb\") as f:\n",
    "    sp_en_input_tokenizer = pickle.load(f)\n",
    "\n",
    "with open(\"sp_en_output_tokenizer.pkl\", \"rb\") as f:\n",
    "    sp_en_output_tokenizer = pickle.load(f)"
   ]
  },
  {
   "cell_type": "code",
   "execution_count": 5,
   "metadata": {},
   "outputs": [],
   "source": [
    "def translate(model, input_sentence, input_tokenizer, output_tokenizer, wrapper_cls):\n",
    "    # Wrap the model with tokenizers\n",
    "    nmt_model = wrapper_cls(max_sequence_length=5)\n",
    "    nmt_model.model = model\n",
    "    nmt_model.input_tokenizer = input_tokenizer\n",
    "    nmt_model.output_tokenizer = output_tokenizer\n",
    "\n",
    "    # Translate the sentence\n",
    "    return nmt_model.translate(input_sentence)\n",
    "\n",
    "\n",
    "def translate_en_sp(input_sentence):\n",
    "    return translate(\n",
    "        en_sp_model, input_sentence, en_sp_input_tokenizer, en_sp_output_tokenizer, NeuralMachineTranslation\n",
    "    )\n",
    "\n",
    "\n",
    "def translate_sp_en(input_sentence):\n",
    "    return translate(\n",
    "        sp_en_model, input_sentence, sp_en_input_tokenizer, sp_en_output_tokenizer, NeuralMachineTranslation\n",
    "    )"
   ]
  },
  {
   "cell_type": "code",
   "execution_count": 6,
   "metadata": {},
   "outputs": [],
   "source": [
    "def recognize_speech(language=\"en-US\"):\n",
    "    recognizer = sr.Recognizer()\n",
    "    with sr.Microphone() as source:\n",
    "        print(f\"Listening for speech in {language}...\")\n",
    "        try:\n",
    "            audio = recognizer.listen(source, timeout=5, phrase_time_limit=10)\n",
    "            text = recognizer.recognize_google(audio, language=language)\n",
    "            print(f\"Recognized Text ({language}): {text}\")\n",
    "            return text\n",
    "        except sr.UnknownValueError:\n",
    "            print(\"Speech not understood.\")\n",
    "        except sr.RequestError:\n",
    "            print(\"Error with the speech recognition service.\")\n",
    "        except Exception as e:\n",
    "            print(f\"Error: {e}\")\n",
    "        return \"\""
   ]
  },
  {
   "cell_type": "code",
   "execution_count": 7,
   "metadata": {},
   "outputs": [],
   "source": [
    "import pyttsx3\n",
    "\n",
    "def text_to_speech(text, language=\"en\"):\n",
    "    engine = pyttsx3.init()\n",
    "    engine.setProperty('rate', 150)\n",
    "    voices = engine.getProperty('voices')\n",
    "    if language == \"es\":\n",
    "        engine.setProperty('voice', voices[1].id)  # Adjust for Spanish\n",
    "    else:\n",
    "        engine.setProperty('voice', voices[0].id)  # Adjust for English\n",
    "    engine.say(text)\n",
    "    engine.runAndWait()\n"
   ]
  },
  {
   "cell_type": "code",
   "execution_count": 8,
   "metadata": {},
   "outputs": [],
   "source": [
    "def real_time_translation():\n",
    "    try:\n",
    "        while True:\n",
    "            print(\"\\n--- English to Spanish ---\")\n",
    "            # Modify function calls\n",
    "            english_text = recognize_speech(\"en-US\")\n",
    "            if english_text:\n",
    "                spanish_translation = translate_en_sp(english_text)\n",
    "                text_to_speech(spanish_translation, \"es\")\n",
    "\n",
    "            \n",
    "            print(\"\\n--- Spanish to English ---\")\n",
    "            spanish_text = recognize_speech(\"es-ES\")\n",
    "            if spanish_text:\n",
    "                english_translation = translate_sp_en(spanish_text)\n",
    "                text_to_speech(english_translation, \"en\")\n",
    "    except KeyboardInterrupt:\n",
    "        print(\"\\nExiting the program...\")\n"
   ]
  },
  {
   "cell_type": "code",
   "execution_count": 9,
   "metadata": {},
   "outputs": [
    {
     "name": "stdout",
     "output_type": "stream",
     "text": [
      "\n",
      "--- English to Spanish ---\n",
      "Listening for speech in en-US...\n",
      "Recognized Text (en-US): how r u\n",
      "1/1 [==============================] - 1s 1s/step\n",
      "1/1 [==============================] - 0s 22ms/step\n",
      "\n",
      "--- Spanish to English ---\n",
      "Listening for speech in es-ES...\n",
      "Speech not understood.\n",
      "\n",
      "--- English to Spanish ---\n",
      "Listening for speech in en-US...\n",
      "Recognized Text (en-US): hu r u\n",
      "1/1 [==============================] - 0s 31ms/step\n",
      "1/1 [==============================] - 0s 19ms/step\n",
      "\n",
      "--- Spanish to English ---\n",
      "Listening for speech in es-ES...\n",
      "\n",
      "Exiting the program...\n"
     ]
    }
   ],
   "source": [
    "if __name__ == \"__main__\":\n",
    "    real_time_translation()"
   ]
  }
 ],
 "metadata": {
  "kernelspec": {
   "display_name": "nullclass",
   "language": "python",
   "name": "python3"
  },
  "language_info": {
   "codemirror_mode": {
    "name": "ipython",
    "version": 3
   },
   "file_extension": ".py",
   "mimetype": "text/x-python",
   "name": "python",
   "nbconvert_exporter": "python",
   "pygments_lexer": "ipython3",
   "version": "3.9.20"
  }
 },
 "nbformat": 4,
 "nbformat_minor": 2
}
